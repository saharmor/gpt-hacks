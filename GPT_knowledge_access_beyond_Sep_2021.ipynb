{
  "nbformat": 4,
  "nbformat_minor": 0,
  "metadata": {
    "colab": {
      "provenance": [],
      "authorship_tag": "ABX9TyMLJ72RXPwyrbfp05b8vK24",
      "include_colab_link": true
    },
    "kernelspec": {
      "name": "python3",
      "display_name": "Python 3"
    },
    "language_info": {
      "name": "python"
    }
  },
  "cells": [
    {
      "cell_type": "markdown",
      "metadata": {
        "id": "view-in-github",
        "colab_type": "text"
      },
      "source": [
        "<a href=\"https://colab.research.google.com/github/saharmor/gpt-hacks/blob/main/GPT_knowledge_access_beyond_Sep_2021.ipynb\" target=\"_parent\"><img src=\"https://colab.research.google.com/assets/colab-badge.svg\" alt=\"Open In Colab\"/></a>"
      ]
    },
    {
      "cell_type": "code",
      "execution_count": null,
      "metadata": {
        "id": "dbw4HVfZr3k6"
      },
      "outputs": [],
      "source": [
        "!pip install langchain openai\n",
        "\n",
        "import os\n",
        "os.environ[\"SERPER_API_KEY\"] = YOUR_API_KEY\n",
        "OPENAI_KEY = YOUR_API_KEY"
      ]
    },
    {
      "cell_type": "code",
      "source": [
        "import os\n",
        "from langchain.llms import OpenAI\n",
        "from langchain.agents import load_tools\n",
        "from langchain.agents import initialize_agent\n",
        "\n",
        "llm = OpenAI(openai_api_key=OPENAI_KEY, temperature=0.7, model_name='gpt-3.5-turbo')\n",
        "tools = load_tools([\"google-serper\"], llm=llm)\n",
        "agent = initialize_agent(tools, llm, agent=\"zero-shot-react-description\")\n",
        "\n",
        "print(\"*** Let's get answers to anything across the internet and beyond Sep 2023 ***\")\n",
        "while True:\n",
        "    question = input(\"--> Enter a question: \")\n",
        "    print('Fetching the answer...')\n",
        "    print('The answer is: {}\\n\\n'.format(agent.run(question)))"
      ],
      "metadata": {
        "id": "pqyKrTz6sVjj"
      },
      "execution_count": null,
      "outputs": []
    }
  ]
}